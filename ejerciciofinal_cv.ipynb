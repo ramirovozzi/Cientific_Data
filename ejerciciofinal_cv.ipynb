{
 "cells": [
  {
   "cell_type": "code",
   "execution_count": 1,
   "id": "37c355d5",
   "metadata": {},
   "outputs": [
    {
     "name": "stdout",
     "output_type": "stream",
     "text": [
      "Automatically created module for IPython interactive environment\n"
     ]
    }
   ],
   "source": [
    "print(__doc__)\n",
    "import pandas as pd\n",
    "import numpy as np\n",
    "import matplotlib.pyplot as plt\n",
    "import requests\n",
    "from io import StringIO\n",
    "\n",
    "#Nombre del directorio de trabajo\n",
    "direc = 'C:/Users/rvozzi/OneDrive - genommalabinternacional/Documentos/ECD/Geo/Datos_Cientificos'\n",
    "\n",
    "#Leo el archivo de señales\n",
    "signals = pd.read_csv(direc + '/eeg.dat',\n",
    "                      delimiter=' ', \n",
    "                      names = ['timestamp','counter','eeg','attention','meditation','blinking'])"
   ]
  },
  {
   "cell_type": "markdown",
   "id": "02ddd656",
   "metadata": {},
   "source": [
    "# 1. Preparacion de los Datos"
   ]
  },
  {
   "cell_type": "code",
   "execution_count": 2,
   "id": "b02889d7",
   "metadata": {},
   "outputs": [
    {
     "data": {
      "text/html": [
       "<div>\n",
       "<style scoped>\n",
       "    .dataframe tbody tr th:only-of-type {\n",
       "        vertical-align: middle;\n",
       "    }\n",
       "\n",
       "    .dataframe tbody tr th {\n",
       "        vertical-align: top;\n",
       "    }\n",
       "\n",
       "    .dataframe thead th {\n",
       "        text-align: right;\n",
       "    }\n",
       "</style>\n",
       "<table border=\"1\" class=\"dataframe\">\n",
       "  <thead>\n",
       "    <tr style=\"text-align: right;\">\n",
       "      <th></th>\n",
       "      <th>timestamp</th>\n",
       "      <th>counter</th>\n",
       "      <th>eeg</th>\n",
       "      <th>attention</th>\n",
       "      <th>meditation</th>\n",
       "      <th>blinking</th>\n",
       "    </tr>\n",
       "  </thead>\n",
       "  <tbody>\n",
       "    <tr>\n",
       "      <th>0</th>\n",
       "      <td>1.655925e+09</td>\n",
       "      <td>68</td>\n",
       "      <td>32</td>\n",
       "      <td>0</td>\n",
       "      <td>0</td>\n",
       "      <td>0</td>\n",
       "    </tr>\n",
       "    <tr>\n",
       "      <th>1</th>\n",
       "      <td>1.655925e+09</td>\n",
       "      <td>69</td>\n",
       "      <td>40</td>\n",
       "      <td>0</td>\n",
       "      <td>0</td>\n",
       "      <td>0</td>\n",
       "    </tr>\n",
       "    <tr>\n",
       "      <th>2</th>\n",
       "      <td>1.655925e+09</td>\n",
       "      <td>70</td>\n",
       "      <td>42</td>\n",
       "      <td>0</td>\n",
       "      <td>0</td>\n",
       "      <td>0</td>\n",
       "    </tr>\n",
       "    <tr>\n",
       "      <th>3</th>\n",
       "      <td>1.655925e+09</td>\n",
       "      <td>71</td>\n",
       "      <td>34</td>\n",
       "      <td>0</td>\n",
       "      <td>0</td>\n",
       "      <td>0</td>\n",
       "    </tr>\n",
       "    <tr>\n",
       "      <th>4</th>\n",
       "      <td>1.655925e+09</td>\n",
       "      <td>72</td>\n",
       "      <td>24</td>\n",
       "      <td>0</td>\n",
       "      <td>0</td>\n",
       "      <td>0</td>\n",
       "    </tr>\n",
       "    <tr>\n",
       "      <th>...</th>\n",
       "      <td>...</td>\n",
       "      <td>...</td>\n",
       "      <td>...</td>\n",
       "      <td>...</td>\n",
       "      <td>...</td>\n",
       "      <td>...</td>\n",
       "    </tr>\n",
       "    <tr>\n",
       "      <th>339296</th>\n",
       "      <td>1.655925e+09</td>\n",
       "      <td>12</td>\n",
       "      <td>86</td>\n",
       "      <td>41</td>\n",
       "      <td>26</td>\n",
       "      <td>0</td>\n",
       "    </tr>\n",
       "    <tr>\n",
       "      <th>339297</th>\n",
       "      <td>1.655925e+09</td>\n",
       "      <td>13</td>\n",
       "      <td>75</td>\n",
       "      <td>41</td>\n",
       "      <td>26</td>\n",
       "      <td>0</td>\n",
       "    </tr>\n",
       "    <tr>\n",
       "      <th>339298</th>\n",
       "      <td>1.655925e+09</td>\n",
       "      <td>14</td>\n",
       "      <td>91</td>\n",
       "      <td>41</td>\n",
       "      <td>26</td>\n",
       "      <td>0</td>\n",
       "    </tr>\n",
       "    <tr>\n",
       "      <th>339299</th>\n",
       "      <td>1.655925e+09</td>\n",
       "      <td>15</td>\n",
       "      <td>114</td>\n",
       "      <td>41</td>\n",
       "      <td>26</td>\n",
       "      <td>0</td>\n",
       "    </tr>\n",
       "    <tr>\n",
       "      <th>339300</th>\n",
       "      <td>1.655925e+09</td>\n",
       "      <td>16</td>\n",
       "      <td>103</td>\n",
       "      <td>41</td>\n",
       "      <td>26</td>\n",
       "      <td>0</td>\n",
       "    </tr>\n",
       "  </tbody>\n",
       "</table>\n",
       "<p>339301 rows × 6 columns</p>\n",
       "</div>"
      ],
      "text/plain": [
       "           timestamp  counter  eeg  attention  meditation  blinking\n",
       "0       1.655925e+09       68   32          0           0         0\n",
       "1       1.655925e+09       69   40          0           0         0\n",
       "2       1.655925e+09       70   42          0           0         0\n",
       "3       1.655925e+09       71   34          0           0         0\n",
       "4       1.655925e+09       72   24          0           0         0\n",
       "...              ...      ...  ...        ...         ...       ...\n",
       "339296  1.655925e+09       12   86         41          26         0\n",
       "339297  1.655925e+09       13   75         41          26         0\n",
       "339298  1.655925e+09       14   91         41          26         0\n",
       "339299  1.655925e+09       15  114         41          26         0\n",
       "339300  1.655925e+09       16  103         41          26         0\n",
       "\n",
       "[339301 rows x 6 columns]"
      ]
     },
     "execution_count": 2,
     "metadata": {},
     "output_type": "execute_result"
    }
   ],
   "source": [
    "signals"
   ]
  },
  {
   "cell_type": "code",
   "execution_count": 3,
   "id": "4efa917b",
   "metadata": {},
   "outputs": [],
   "source": [
    "b = 0\n",
    "vec = []\n",
    "for i in range(0,len(signals)):\n",
    "    vec.append(100*b + signals['counter'][i])\n",
    "    if signals['counter'][i] == 99:\n",
    "        b = b+1"
   ]
  },
  {
   "cell_type": "code",
   "execution_count": 4,
   "id": "ea559f61",
   "metadata": {},
   "outputs": [],
   "source": [
    "signals['counter2'] = vec"
   ]
  },
  {
   "cell_type": "code",
   "execution_count": 5,
   "id": "3796867c",
   "metadata": {},
   "outputs": [
    {
     "data": {
      "text/html": [
       "<div>\n",
       "<style scoped>\n",
       "    .dataframe tbody tr th:only-of-type {\n",
       "        vertical-align: middle;\n",
       "    }\n",
       "\n",
       "    .dataframe tbody tr th {\n",
       "        vertical-align: top;\n",
       "    }\n",
       "\n",
       "    .dataframe thead th {\n",
       "        text-align: right;\n",
       "    }\n",
       "</style>\n",
       "<table border=\"1\" class=\"dataframe\">\n",
       "  <thead>\n",
       "    <tr style=\"text-align: right;\">\n",
       "      <th></th>\n",
       "      <th>timestamp</th>\n",
       "      <th>counter</th>\n",
       "      <th>eeg</th>\n",
       "      <th>attention</th>\n",
       "      <th>meditation</th>\n",
       "      <th>blinking</th>\n",
       "      <th>counter2</th>\n",
       "    </tr>\n",
       "  </thead>\n",
       "  <tbody>\n",
       "    <tr>\n",
       "      <th>0</th>\n",
       "      <td>1.655925e+09</td>\n",
       "      <td>68</td>\n",
       "      <td>32</td>\n",
       "      <td>0</td>\n",
       "      <td>0</td>\n",
       "      <td>0</td>\n",
       "      <td>68</td>\n",
       "    </tr>\n",
       "    <tr>\n",
       "      <th>1</th>\n",
       "      <td>1.655925e+09</td>\n",
       "      <td>69</td>\n",
       "      <td>40</td>\n",
       "      <td>0</td>\n",
       "      <td>0</td>\n",
       "      <td>0</td>\n",
       "      <td>69</td>\n",
       "    </tr>\n",
       "    <tr>\n",
       "      <th>2</th>\n",
       "      <td>1.655925e+09</td>\n",
       "      <td>70</td>\n",
       "      <td>42</td>\n",
       "      <td>0</td>\n",
       "      <td>0</td>\n",
       "      <td>0</td>\n",
       "      <td>70</td>\n",
       "    </tr>\n",
       "    <tr>\n",
       "      <th>3</th>\n",
       "      <td>1.655925e+09</td>\n",
       "      <td>71</td>\n",
       "      <td>34</td>\n",
       "      <td>0</td>\n",
       "      <td>0</td>\n",
       "      <td>0</td>\n",
       "      <td>71</td>\n",
       "    </tr>\n",
       "    <tr>\n",
       "      <th>4</th>\n",
       "      <td>1.655925e+09</td>\n",
       "      <td>72</td>\n",
       "      <td>24</td>\n",
       "      <td>0</td>\n",
       "      <td>0</td>\n",
       "      <td>0</td>\n",
       "      <td>72</td>\n",
       "    </tr>\n",
       "    <tr>\n",
       "      <th>...</th>\n",
       "      <td>...</td>\n",
       "      <td>...</td>\n",
       "      <td>...</td>\n",
       "      <td>...</td>\n",
       "      <td>...</td>\n",
       "      <td>...</td>\n",
       "      <td>...</td>\n",
       "    </tr>\n",
       "    <tr>\n",
       "      <th>339296</th>\n",
       "      <td>1.655925e+09</td>\n",
       "      <td>12</td>\n",
       "      <td>86</td>\n",
       "      <td>41</td>\n",
       "      <td>26</td>\n",
       "      <td>0</td>\n",
       "      <td>339412</td>\n",
       "    </tr>\n",
       "    <tr>\n",
       "      <th>339297</th>\n",
       "      <td>1.655925e+09</td>\n",
       "      <td>13</td>\n",
       "      <td>75</td>\n",
       "      <td>41</td>\n",
       "      <td>26</td>\n",
       "      <td>0</td>\n",
       "      <td>339413</td>\n",
       "    </tr>\n",
       "    <tr>\n",
       "      <th>339298</th>\n",
       "      <td>1.655925e+09</td>\n",
       "      <td>14</td>\n",
       "      <td>91</td>\n",
       "      <td>41</td>\n",
       "      <td>26</td>\n",
       "      <td>0</td>\n",
       "      <td>339414</td>\n",
       "    </tr>\n",
       "    <tr>\n",
       "      <th>339299</th>\n",
       "      <td>1.655925e+09</td>\n",
       "      <td>15</td>\n",
       "      <td>114</td>\n",
       "      <td>41</td>\n",
       "      <td>26</td>\n",
       "      <td>0</td>\n",
       "      <td>339415</td>\n",
       "    </tr>\n",
       "    <tr>\n",
       "      <th>339300</th>\n",
       "      <td>1.655925e+09</td>\n",
       "      <td>16</td>\n",
       "      <td>103</td>\n",
       "      <td>41</td>\n",
       "      <td>26</td>\n",
       "      <td>0</td>\n",
       "      <td>339416</td>\n",
       "    </tr>\n",
       "  </tbody>\n",
       "</table>\n",
       "<p>339301 rows × 7 columns</p>\n",
       "</div>"
      ],
      "text/plain": [
       "           timestamp  counter  eeg  attention  meditation  blinking  counter2\n",
       "0       1.655925e+09       68   32          0           0         0        68\n",
       "1       1.655925e+09       69   40          0           0         0        69\n",
       "2       1.655925e+09       70   42          0           0         0        70\n",
       "3       1.655925e+09       71   34          0           0         0        71\n",
       "4       1.655925e+09       72   24          0           0         0        72\n",
       "...              ...      ...  ...        ...         ...       ...       ...\n",
       "339296  1.655925e+09       12   86         41          26         0    339412\n",
       "339297  1.655925e+09       13   75         41          26         0    339413\n",
       "339298  1.655925e+09       14   91         41          26         0    339414\n",
       "339299  1.655925e+09       15  114         41          26         0    339415\n",
       "339300  1.655925e+09       16  103         41          26         0    339416\n",
       "\n",
       "[339301 rows x 7 columns]"
      ]
     },
     "execution_count": 5,
     "metadata": {},
     "output_type": "execute_result"
    }
   ],
   "source": [
    "signals"
   ]
  },
  {
   "cell_type": "code",
   "execution_count": 6,
   "id": "6711c58b",
   "metadata": {},
   "outputs": [
    {
     "name": "stdout",
     "output_type": "stream",
     "text": [
      "Wall time: 11min 7s\n"
     ]
    }
   ],
   "source": [
    "%%time\n",
    "\n",
    "\"\"\"No todas las lecturas son capturadas,\n",
    "esto se puede ver ya que counter no hace saltos de a 1 o -99 en algunos casos\n",
    "por lo tanto, intento rellenar todas las que pueda\"\"\"\n",
    "\n",
    "a = 0\n",
    "for i in range(2,len(signals)-2):\n",
    "    dif = signals['counter'][i] - signals['counter'][i-1]\n",
    "    if dif != 1 and dif != -99:\n",
    "        a = a + 1\n",
    "        df1 = pd.DataFrame({\n",
    "                        \"timestamp\": [(signals['timestamp'][i]+signals['timestamp'][i-1])/2],\n",
    "                        \"counter\": [signals['counter'][i-1] + 1 if signals['counter'][i-1] < 99 else 0],\n",
    "                        \"eeg\": [(signals['eeg'][i]+signals['eeg'][i-1])/2],\n",
    "                        \"attention\": [(signals['attention'][i]+signals['attention'][i-1])/2],\n",
    "                        \"meditation\": [(signals['meditation'][i]+signals['meditation'][i-1])/2],\n",
    "                        \"blinking\": [(signals['blinking'][i]+signals['blinking'][i-1])/2],\n",
    "                        \"counter2\": [signals['counter2'][i-1] + 1]\n",
    "                        })\n",
    "        signals = signals.append(df1)\n",
    "        \n",
    "        signals = signals.sort_values(by=['timestamp', 'counter2'])"
   ]
  },
  {
   "cell_type": "markdown",
   "id": "fb6fcdf5",
   "metadata": {},
   "source": [
    "# 2. Creo la Variable a Predecir"
   ]
  },
  {
   "cell_type": "code",
   "execution_count": 7,
   "id": "22b26539",
   "metadata": {},
   "outputs": [],
   "source": [
    "import datetime\n",
    "\n",
    "#empieza a respirar profundo: 2022-06-22 20:08:18\n",
    "t1 = datetime.datetime(2022, 6, 22, 20, 8, 18).timestamp() - 14391\n",
    "\n",
    "#termina de respirar profundo: 2022-06-22 20:09:16\n",
    "t2 = datetime.datetime(2022, 6, 22, 20, 9, 16).timestamp() - 14391\n",
    "\n",
    "#empieza a respirar rapido: 2022-06-22 20:09:20\n",
    "t3 = datetime.datetime(2022, 6, 22, 20, 9, 20).timestamp() - 14391\n",
    "\n",
    "#termina de respirar rapido: 2022-06-22 20:10:14\n",
    "t4 = datetime.datetime(2022, 6, 22, 20, 10, 14).timestamp() - 14391"
   ]
  },
  {
   "cell_type": "code",
   "execution_count": 8,
   "id": "e3913947",
   "metadata": {},
   "outputs": [],
   "source": [
    "#respira profundo vale 1\n",
    "signals.loc[(signals['timestamp'] > t1) & (signals['timestamp'] < t2), 'resp'] = 1\n",
    "\n",
    "#respira rapido vale 0\n",
    "signals.loc[(signals['timestamp'] > t3) & (signals['timestamp'] < t4), 'resp'] = 0\n",
    "\n",
    "#elimino todos los registros que no correspondan a respiracion profunda o rapida\n",
    "signals = signals.dropna()"
   ]
  },
  {
   "cell_type": "code",
   "execution_count": 9,
   "id": "0bf23a4e",
   "metadata": {},
   "outputs": [
    {
     "data": {
      "text/html": [
       "<div>\n",
       "<style scoped>\n",
       "    .dataframe tbody tr th:only-of-type {\n",
       "        vertical-align: middle;\n",
       "    }\n",
       "\n",
       "    .dataframe tbody tr th {\n",
       "        vertical-align: top;\n",
       "    }\n",
       "\n",
       "    .dataframe thead th {\n",
       "        text-align: right;\n",
       "    }\n",
       "</style>\n",
       "<table border=\"1\" class=\"dataframe\">\n",
       "  <thead>\n",
       "    <tr style=\"text-align: right;\">\n",
       "      <th></th>\n",
       "      <th>timestamp</th>\n",
       "      <th>counter</th>\n",
       "      <th>eeg</th>\n",
       "      <th>attention</th>\n",
       "      <th>meditation</th>\n",
       "      <th>blinking</th>\n",
       "      <th>counter2</th>\n",
       "      <th>resp</th>\n",
       "    </tr>\n",
       "  </thead>\n",
       "  <tbody>\n",
       "    <tr>\n",
       "      <th>73031</th>\n",
       "      <td>1.655925e+09</td>\n",
       "      <td>67</td>\n",
       "      <td>-220.0</td>\n",
       "      <td>40.0</td>\n",
       "      <td>14.0</td>\n",
       "      <td>0.0</td>\n",
       "      <td>73167</td>\n",
       "      <td>1.0</td>\n",
       "    </tr>\n",
       "    <tr>\n",
       "      <th>73032</th>\n",
       "      <td>1.655925e+09</td>\n",
       "      <td>68</td>\n",
       "      <td>-211.0</td>\n",
       "      <td>40.0</td>\n",
       "      <td>14.0</td>\n",
       "      <td>0.0</td>\n",
       "      <td>73168</td>\n",
       "      <td>1.0</td>\n",
       "    </tr>\n",
       "    <tr>\n",
       "      <th>73033</th>\n",
       "      <td>1.655925e+09</td>\n",
       "      <td>69</td>\n",
       "      <td>-210.0</td>\n",
       "      <td>40.0</td>\n",
       "      <td>14.0</td>\n",
       "      <td>0.0</td>\n",
       "      <td>73169</td>\n",
       "      <td>1.0</td>\n",
       "    </tr>\n",
       "    <tr>\n",
       "      <th>73034</th>\n",
       "      <td>1.655925e+09</td>\n",
       "      <td>70</td>\n",
       "      <td>-220.0</td>\n",
       "      <td>40.0</td>\n",
       "      <td>14.0</td>\n",
       "      <td>0.0</td>\n",
       "      <td>73170</td>\n",
       "      <td>1.0</td>\n",
       "    </tr>\n",
       "    <tr>\n",
       "      <th>73035</th>\n",
       "      <td>1.655925e+09</td>\n",
       "      <td>71</td>\n",
       "      <td>-216.0</td>\n",
       "      <td>40.0</td>\n",
       "      <td>14.0</td>\n",
       "      <td>0.0</td>\n",
       "      <td>73171</td>\n",
       "      <td>1.0</td>\n",
       "    </tr>\n",
       "    <tr>\n",
       "      <th>...</th>\n",
       "      <td>...</td>\n",
       "      <td>...</td>\n",
       "      <td>...</td>\n",
       "      <td>...</td>\n",
       "      <td>...</td>\n",
       "      <td>...</td>\n",
       "      <td>...</td>\n",
       "      <td>...</td>\n",
       "    </tr>\n",
       "    <tr>\n",
       "      <th>132650</th>\n",
       "      <td>1.655925e+09</td>\n",
       "      <td>54</td>\n",
       "      <td>25.0</td>\n",
       "      <td>43.0</td>\n",
       "      <td>34.0</td>\n",
       "      <td>0.0</td>\n",
       "      <td>132754</td>\n",
       "      <td>0.0</td>\n",
       "    </tr>\n",
       "    <tr>\n",
       "      <th>132651</th>\n",
       "      <td>1.655925e+09</td>\n",
       "      <td>55</td>\n",
       "      <td>3.0</td>\n",
       "      <td>43.0</td>\n",
       "      <td>34.0</td>\n",
       "      <td>0.0</td>\n",
       "      <td>132755</td>\n",
       "      <td>0.0</td>\n",
       "    </tr>\n",
       "    <tr>\n",
       "      <th>132652</th>\n",
       "      <td>1.655925e+09</td>\n",
       "      <td>56</td>\n",
       "      <td>12.0</td>\n",
       "      <td>43.0</td>\n",
       "      <td>34.0</td>\n",
       "      <td>0.0</td>\n",
       "      <td>132756</td>\n",
       "      <td>0.0</td>\n",
       "    </tr>\n",
       "    <tr>\n",
       "      <th>132653</th>\n",
       "      <td>1.655925e+09</td>\n",
       "      <td>57</td>\n",
       "      <td>21.0</td>\n",
       "      <td>43.0</td>\n",
       "      <td>34.0</td>\n",
       "      <td>0.0</td>\n",
       "      <td>132757</td>\n",
       "      <td>0.0</td>\n",
       "    </tr>\n",
       "    <tr>\n",
       "      <th>132654</th>\n",
       "      <td>1.655925e+09</td>\n",
       "      <td>58</td>\n",
       "      <td>12.0</td>\n",
       "      <td>43.0</td>\n",
       "      <td>34.0</td>\n",
       "      <td>0.0</td>\n",
       "      <td>132758</td>\n",
       "      <td>0.0</td>\n",
       "    </tr>\n",
       "  </tbody>\n",
       "</table>\n",
       "<p>57685 rows × 8 columns</p>\n",
       "</div>"
      ],
      "text/plain": [
       "           timestamp  counter    eeg  attention  meditation  blinking  \\\n",
       "73031   1.655925e+09       67 -220.0       40.0        14.0       0.0   \n",
       "73032   1.655925e+09       68 -211.0       40.0        14.0       0.0   \n",
       "73033   1.655925e+09       69 -210.0       40.0        14.0       0.0   \n",
       "73034   1.655925e+09       70 -220.0       40.0        14.0       0.0   \n",
       "73035   1.655925e+09       71 -216.0       40.0        14.0       0.0   \n",
       "...              ...      ...    ...        ...         ...       ...   \n",
       "132650  1.655925e+09       54   25.0       43.0        34.0       0.0   \n",
       "132651  1.655925e+09       55    3.0       43.0        34.0       0.0   \n",
       "132652  1.655925e+09       56   12.0       43.0        34.0       0.0   \n",
       "132653  1.655925e+09       57   21.0       43.0        34.0       0.0   \n",
       "132654  1.655925e+09       58   12.0       43.0        34.0       0.0   \n",
       "\n",
       "        counter2  resp  \n",
       "73031      73167   1.0  \n",
       "73032      73168   1.0  \n",
       "73033      73169   1.0  \n",
       "73034      73170   1.0  \n",
       "73035      73171   1.0  \n",
       "...          ...   ...  \n",
       "132650    132754   0.0  \n",
       "132651    132755   0.0  \n",
       "132652    132756   0.0  \n",
       "132653    132757   0.0  \n",
       "132654    132758   0.0  \n",
       "\n",
       "[57685 rows x 8 columns]"
      ]
     },
     "execution_count": 9,
     "metadata": {},
     "output_type": "execute_result"
    }
   ],
   "source": [
    "signals"
   ]
  },
  {
   "cell_type": "markdown",
   "id": "87f2750d",
   "metadata": {},
   "source": [
    "# 3. Hago Cross Validation"
   ]
  },
  {
   "cell_type": "code",
   "execution_count": 14,
   "id": "45a0a6b8",
   "metadata": {},
   "outputs": [
    {
     "name": "stdout",
     "output_type": "stream",
     "text": [
      "Wall time: 18.1 s\n"
     ]
    }
   ],
   "source": [
    "%%time\n",
    "\n",
    "from sklearn.tree import DecisionTreeClassifier\n",
    "from sklearn.model_selection import cross_validate\n",
    "from sklearn.metrics import make_scorer\n",
    "from sklearn.metrics import confusion_matrix\n",
    "\n",
    "clf = DecisionTreeClassifier(criterion = \"entropy\", max_depth = 10, min_samples_split = 7)\n",
    "\n",
    "X = signals.drop(['timestamp', 'counter', 'counter2', 'resp'], axis=1)\n",
    "y = signals['resp']\n",
    "\n",
    "scores = cross_validate(clf, X, y, cv=100,\n",
    "                        scoring='accuracy',\n",
    "                        return_train_score=True)"
   ]
  },
  {
   "cell_type": "markdown",
   "id": "b3cdf04e",
   "metadata": {},
   "source": [
    "# 4. Analizo el modelo"
   ]
  },
  {
   "cell_type": "code",
   "execution_count": 16,
   "id": "c8c0b0f3",
   "metadata": {},
   "outputs": [
    {
     "data": {
      "text/plain": [
       "0.7199707839880611"
      ]
     },
     "execution_count": 16,
     "metadata": {},
     "output_type": "execute_result"
    }
   ],
   "source": [
    "scores['test_score'].mean()"
   ]
  },
  {
   "cell_type": "code",
   "execution_count": 17,
   "id": "43eecd38",
   "metadata": {},
   "outputs": [
    {
     "data": {
      "text/plain": [
       "0.3405326395034769"
      ]
     },
     "execution_count": 17,
     "metadata": {},
     "output_type": "execute_result"
    }
   ],
   "source": [
    "scores['test_score'].std()"
   ]
  },
  {
   "cell_type": "code",
   "execution_count": 18,
   "id": "24c263de",
   "metadata": {},
   "outputs": [
    {
     "data": {
      "text/plain": [
       "0.0"
      ]
     },
     "execution_count": 18,
     "metadata": {},
     "output_type": "execute_result"
    }
   ],
   "source": [
    "scores['test_score'].min()"
   ]
  },
  {
   "cell_type": "code",
   "execution_count": null,
   "id": "0aba858f",
   "metadata": {},
   "outputs": [],
   "source": [
    "\"\"\"\n",
    "Se puede ver un alto valor del accuracy en test, pero una mala repetibilidad en test\n",
    "\"\"\""
   ]
  },
  {
   "cell_type": "code",
   "execution_count": 19,
   "id": "ac3d0c93",
   "metadata": {},
   "outputs": [
    {
     "data": {
      "text/plain": [
       "0.8381588354351163"
      ]
     },
     "execution_count": 19,
     "metadata": {},
     "output_type": "execute_result"
    }
   ],
   "source": [
    "scores['train_score'].mean()"
   ]
  },
  {
   "cell_type": "code",
   "execution_count": 20,
   "id": "54233767",
   "metadata": {},
   "outputs": [
    {
     "data": {
      "text/plain": [
       "0.02678118466057456"
      ]
     },
     "execution_count": 20,
     "metadata": {},
     "output_type": "execute_result"
    }
   ],
   "source": [
    "scores['train_score'].std()"
   ]
  },
  {
   "cell_type": "code",
   "execution_count": 21,
   "id": "91e5dcbb",
   "metadata": {},
   "outputs": [
    {
     "data": {
      "text/plain": [
       "0.7762485115920712"
      ]
     },
     "execution_count": 21,
     "metadata": {},
     "output_type": "execute_result"
    }
   ],
   "source": [
    "scores['train_score'].min()"
   ]
  },
  {
   "cell_type": "code",
   "execution_count": null,
   "id": "efb2de85",
   "metadata": {},
   "outputs": [],
   "source": [
    "\"\"\"\n",
    "mirando la diferencia entre los valores de accuracy entre train y test, se puede ver que el modelo generaliza bien.\n",
    "Probaria con modelos mas complejos, buscando lograr una major repetitibilidad en las metricas de test\n",
    "\"\"\""
   ]
  }
 ],
 "metadata": {
  "kernelspec": {
   "display_name": "Python 3 (ipykernel)",
   "language": "python",
   "name": "python3"
  },
  "language_info": {
   "codemirror_mode": {
    "name": "ipython",
    "version": 3
   },
   "file_extension": ".py",
   "mimetype": "text/x-python",
   "name": "python",
   "nbconvert_exporter": "python",
   "pygments_lexer": "ipython3",
   "version": "3.9.7"
  }
 },
 "nbformat": 4,
 "nbformat_minor": 5
}
